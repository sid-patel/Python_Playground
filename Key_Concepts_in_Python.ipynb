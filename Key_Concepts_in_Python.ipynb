{
 "cells": [
  {
   "cell_type": "markdown",
   "id": "697bb1e8-9c55-4493-85ca-a00f03351f4c",
   "metadata": {},
   "source": [
    "#### UNDERSTANDING PYTHON PROGRAMMING $\\;\\;\\;\\;\\;\\;\\;\\;\\;\\;\\;$   Created By: Siddhant Patel  $\\;\\;\\;\\;\\;\\;\\;\\;\\;\\;\\;$   https://github.com/sid-patel "
   ]
  },
  {
   "cell_type": "markdown",
   "id": "6cd7b466-d820-4879-9ea9-1009e1919f1c",
   "metadata": {},
   "source": [
    "# Chapter 1 : Key Concepts in Python"
   ]
  },
  {
   "cell_type": "markdown",
   "id": "2b629490-803f-467d-a629-55b0d8f67b96",
   "metadata": {},
   "source": [
    "### 1. Variable Assignment in Python\n",
    "### 2. Memory Model in Python\n",
    "### 3. Dynamic Typing in python\n",
    "### 4. Immutable vs Mutable Objects in Python\n",
    "### 5. Namespaces and Variable Scope\n",
    "### 6. Unerstanding \"self\" in Python\n",
    "### 7. Understandin __ init __ method in python\n",
    "### 8. Understanding design Philosophy in Python - \"Everything in Python is an Object\"."
   ]
  },
  {
   "cell_type": "markdown",
   "id": "ba9d34df-76de-40df-a25b-0e747f31c5a1",
   "metadata": {},
   "source": [
    " ## 1. Variable Assignment in Python"
   ]
  },
  {
   "cell_type": "markdown",
   "id": "b3067313-57de-4698-88a2-e1cd822518fd",
   "metadata": {},
   "source": [
    "*  Variable in python is essentially a reference/name/label assigned or given to piece of data.\n",
    "\n",
    "*  '=' is assignment operator. it means if age = 15 then 15 (value or data) is assigned (or stored) to variable called 'age'.\n",
    "\n",
    "*  When we declare a variable in python, first python creates an object in memory to represent value (e.g. 15), then variable \"age\" becomes reference to that object. \n",
    "\n",
    "##### Do Variables Hold Memory?\n",
    "##### Technically, variables themselves do not hold memory in Python. Instead:\n",
    "\n",
    "* **Values or objects** are stored in memory.\n",
    "* Variables are references (or pointers) to those memory locations.\n",
    "\n",
    "##### If multiple variable reference the same object, then they share same memory until one of them is re-assigned. Shown in below example."
   ]
  },
  {
   "cell_type": "code",
   "execution_count": 15,
   "id": "82fe048d-fec2-4dc0-a1d1-f811f179fe46",
   "metadata": {
    "tags": []
   },
   "outputs": [
    {
     "name": "stdout",
     "output_type": "stream",
     "text": [
      "15\n",
      "140721211413736\n"
     ]
    }
   ],
   "source": [
    "age = 15\n",
    "print(age)\n",
    "print(id(age)) # id is memory location of variable \"age\". so \"age\" is a variable(reference) that is pointing id(location) where object (or value) 15 is stored."
   ]
  },
  {
   "cell_type": "code",
   "execution_count": 1,
   "id": "c2a377b2-4f7c-4f11-95fb-8dce5d5431f2",
   "metadata": {
    "tags": []
   },
   "outputs": [
    {
     "name": "stdout",
     "output_type": "stream",
     "text": [
      "140721571206216\n",
      "140721571206216\n"
     ]
    }
   ],
   "source": [
    "a = 10\n",
    "b = 10\n",
    "print(id(a))\n",
    "print(id(b))"
   ]
  },
  {
   "cell_type": "markdown",
   "id": "2cbf3c47-2913-4fad-bb4a-06aec2921c85",
   "metadata": {},
   "source": [
    "* Note : so as we can see here both the Variables a and b reference the same object 10 so they share the same memory location"
   ]
  },
  {
   "cell_type": "markdown",
   "id": "78d7201f-eb4d-4efb-8476-bc6d1061fa4a",
   "metadata": {},
   "source": [
    "##### Initializing multiple variables"
   ]
  },
  {
   "cell_type": "code",
   "execution_count": 6,
   "id": "0091d96a-6b44-4ecd-a646-78c26a30da8d",
   "metadata": {
    "tags": []
   },
   "outputs": [
    {
     "name": "stdout",
     "output_type": "stream",
     "text": [
      "Name: Siddhant\n",
      "Id: 1001\n",
      "Age: 30\n"
     ]
    }
   ],
   "source": [
    "Name,Id,Age = \"Siddhant\",1001,30\n",
    "print(\"Name:\",Name)\n",
    "print(\"Id:\",Id)\n",
    "print(\"Age:\",Age)"
   ]
  },
  {
   "cell_type": "markdown",
   "id": "4a3a1052-5fdc-4b08-ad7d-6d232bf48e9c",
   "metadata": {},
   "source": [
    " ## 2. Memory Model in Python"
   ]
  },
  {
   "cell_type": "markdown",
   "id": "ab028ee3-4f28-441f-9120-be418ff0c7c2",
   "metadata": {},
   "source": [
    "  #### Python uses a reference counting mechanism for memory management. This is part of Python's Garbage Collection (GC) system. Here's how it works:\n",
    " * Every object in Python has a reference count (how many variables point to it).\n",
    " * When an object’s reference count drops to zero (i.e., no variable points to it), Python automatically frees that memory."
   ]
  },
  {
   "cell_type": "code",
   "execution_count": 1,
   "id": "e1cff46c-a4da-438a-a508-d7d002391a15",
   "metadata": {
    "tags": []
   },
   "outputs": [
    {
     "name": "stdout",
     "output_type": "stream",
     "text": [
      "1740289889024\n",
      "1740289889024\n"
     ]
    }
   ],
   "source": [
    "x = [1, 2, 3]\n",
    "y = x       # `y` references the same list object\n",
    "print(id(x))  # Same memory address for `x` and `y`\n",
    "print(id(y))"
   ]
  },
  {
   "cell_type": "code",
   "execution_count": 3,
   "id": "9deb9dd0-76c8-4b2a-bf18-9708567da2e0",
   "metadata": {
    "tags": []
   },
   "outputs": [
    {
     "name": "stdout",
     "output_type": "stream",
     "text": [
      "[1, 2, 3]\n",
      "None\n",
      "1740289889024\n",
      "140721210026736\n"
     ]
    }
   ],
   "source": [
    "y = None     # Now `y` no longer points to the list\n",
    "print(x)     # `x` still references the list\n",
    "print(y)\n",
    "print(id(x)) \n",
    "print(id(y))"
   ]
  },
  {
   "cell_type": "markdown",
   "id": "259b2489-589d-4197-b630-1fda2fd483f5",
   "metadata": {},
   "source": [
    " ## 3. Dynamic Typing in Python\n",
    " #### Python is dynamically typed, meaning:\n",
    "\n",
    " * A variable can reference different types of objects at different times.\n",
    " * You don’t need to declare the type of a variable explicitly."
   ]
  },
  {
   "cell_type": "code",
   "execution_count": 7,
   "id": "8ca3757c-32f0-4146-85fc-97031b48da92",
   "metadata": {
    "tags": []
   },
   "outputs": [
    {
     "name": "stdout",
     "output_type": "stream",
     "text": [
      "25\n",
      "<class 'int'>\n",
      "140721211414056\n",
      "<class 'str'>\n",
      "1740268689456\n",
      "hello\n"
     ]
    }
   ],
   "source": [
    "x = 25\n",
    "print(x)\n",
    "print(type(x))\n",
    "print(id(x)) \n",
    "\n",
    "x = ('hello')\n",
    "print(type(x))\n",
    "print(id(x)) \n",
    "print(x)"
   ]
  },
  {
   "cell_type": "markdown",
   "id": "fe7c5495-dd13-4ae1-acb2-d964e7974e66",
   "metadata": {},
   "source": [
    "#### In Above code :\n",
    "* first we assigned value 25 (integer) to variable x so for that data type of x is <class 'int'>\n",
    "* then by reassigning x we changed value of x = 'hello' (string) so for that data type of x is <class 'str'>\n",
    "#### Reassignment :\n",
    "* When x is reassigned from 25 to 'hello', Python creates a new object for 'hello' in memory (at 1740268689456), and the reference to 25 is discarded (if nothing else references 25). id(x) changes because x points to a new object.\n",
    "\n",
    "#### Dynamic Typed :\n",
    "* Therefore variables are dynamically typed, they dont have data types but their data types depend upon data assigned / or stored in them. For example in c or c++ you assign data type while assigning variable ex. int x = 10 so here they are static. their data type wont change.\n",
    "* Python is dynamically typed, meaning a variable can change its type during execution. Initially, x was an integer (int), but after reassignment, it became a string (str).\n"
   ]
  },
  {
   "cell_type": "markdown",
   "id": "1f9af8c9-9d2e-4676-8169-598a47f98a74",
   "metadata": {},
   "source": [
    "#### What Happens to Memory Location of 25?\n",
    "* When x is reassigned to a new object ('hello'), the previous object (25) is unaffected in memory. However, its behavior depends on how many references are pointing to it.\n",
    "##### 1. Reference count : \n",
    "##### In Python, objects are managed using a mechanism called reference counting:\n",
    "\n",
    "* If no other variables or references point to 25, its reference count becomes 0.\n",
    "* At this point, Python’s garbage collector marks the object (25) for cleanup, and its memory is reclaimed eventually.\n",
    "* If another variable still points to 25, the object remains in memory."
   ]
  },
  {
   "cell_type": "markdown",
   "id": "a1c75186-4c9f-4060-9b34-b707b5764bcf",
   "metadata": {},
   "source": [
    "##### Demonstration of Reference Count:\n",
    "* You can manually inspect the reference count of an object using the sys.getrefcount() function:"
   ]
  },
  {
   "cell_type": "code",
   "execution_count": 11,
   "id": "ae5782be-b89c-497f-b0e9-e5cc82b3ab21",
   "metadata": {
    "tags": []
   },
   "outputs": [
    {
     "name": "stdout",
     "output_type": "stream",
     "text": [
      "1000000047\n",
      "1000000048\n",
      "1000000047\n"
     ]
    }
   ],
   "source": [
    "import sys\n",
    "\n",
    "print(sys.getrefcount(25)) # checking reference count for object or value 25.\n",
    "\n",
    "x = 25\n",
    "print(sys.getrefcount(25))  # Reference count for 25 increased by one as we assign one more reference x to the object 25. ( reference is usually higher due to internal references)\n",
    "\n",
    "x = 'hello'                 # x no longer points to 25\n",
    "print(sys.getrefcount(25))  # Reference count decreases by one as x is no longer points 25 because x points \"hello\" now. so reference counnt is decreased if no other references exist\n"
   ]
  },
  {
   "cell_type": "markdown",
   "id": "e71e2085-5c97-4bf0-a53e-0429ca81ae5e",
   "metadata": {},
   "source": [
    "##### 2. Garbage Collection:\n",
    "\n",
    "* When the reference count for an object drops to zero, **Python’s garbage collector** eventually cleans it up. This is not immediate but happens during the next garbage collection cycle.\n",
    "* Python uses an internal garbage collection system to free up unused memory.\n"
   ]
  },
  {
   "cell_type": "markdown",
   "id": "a1fa337b-ca8e-46e1-810b-2e9876551f70",
   "metadata": {},
   "source": [
    "## 4. Immutable vs. Mutable Objects\n",
    "* **Immutable objects (e.g., int, float, tuple, str)** cannot be changed after they are created. When you modify an immutable object, Python creates a new object in memory.\n",
    "* **Mutable objects (e.g., list, dict, set)** can be changed without creating a new object."
   ]
  },
  {
   "cell_type": "markdown",
   "id": "fcba2f78-b9f2-4b8f-8d51-b980adce541b",
   "metadata": {},
   "source": [
    "#### Example : Immutable "
   ]
  },
  {
   "cell_type": "code",
   "execution_count": 4,
   "id": "f12cbfaf-ee9c-468c-ab85-518c3f840a84",
   "metadata": {
    "tags": []
   },
   "outputs": [
    {
     "name": "stdout",
     "output_type": "stream",
     "text": [
      "11\n"
     ]
    }
   ],
   "source": [
    "x = 10       # once integer 10 is assigned to x, it cant be changed\n",
    "x += 1       # A new object is created for 11\n",
    "print(x)"
   ]
  },
  {
   "cell_type": "markdown",
   "id": "2a3082d1-e4af-48af-af9e-b33a3ca3f370",
   "metadata": {},
   "source": [
    "#### Example : Mutable"
   ]
  },
  {
   "cell_type": "code",
   "execution_count": 3,
   "id": "47d7410c-a73d-4912-93c0-8f9ad9476b61",
   "metadata": {
    "tags": []
   },
   "outputs": [
    {
     "name": "stdout",
     "output_type": "stream",
     "text": [
      "[1, 2, 3]\n",
      "2259248504128\n",
      "[1, 2, 3, 4]\n",
      "2259248504128\n"
     ]
    }
   ],
   "source": [
    "x = [1, 2, 3]\n",
    "print(x)\n",
    "print(id(x))\n",
    "x.append(4)  # same list object can be modified and here append Modifies the list in-place\n",
    "print(x)\n",
    "print(id(x))"
   ]
  },
  {
   "cell_type": "markdown",
   "id": "7c0c3370-3d41-4f4b-934c-634643a0ab04",
   "metadata": {},
   "source": [
    "## 5. Namespaces and Variable Scope\n",
    "#### A namespace is a mapping of variable names to objects. Python has different types of namespaces:\n",
    "\n",
    "* **Global Namespace:** Variables defined at the module level.\n",
    "* **Local Namespace:** Variables defined inside functions.\n",
    "* **Built-in Namespace:** Includes Python's built-in functions and objects."
   ]
  },
  {
   "cell_type": "code",
   "execution_count": 35,
   "id": "a99a2853-f91b-4b17-aef5-b048a949c7ca",
   "metadata": {
    "tags": []
   },
   "outputs": [
    {
     "name": "stdout",
     "output_type": "stream",
     "text": [
      "Inside Func value of x is : 10\n",
      "140728534602824\n",
      "Outside Func value of x is : 5\n",
      "140728534602664\n"
     ]
    }
   ],
   "source": [
    "x = 5  # Global variable\n",
    "\n",
    "def Func():                  # defining function \n",
    "    x = 10  # Local variable\n",
    "    print(\"Inside Func value of x is :\", x)\n",
    "    print(id(x))\n",
    "\n",
    "s1 = Func()                       # calling function # we created s1 instance for it.\n",
    "print(\"Outside Func value of x is :\", x)\n",
    "print(id(x))"
   ]
  },
  {
   "cell_type": "markdown",
   "id": "ab08170b-399a-4639-9688-9f3319478df7",
   "metadata": {},
   "source": [
    "* **Above Program Execution Flow**:\n",
    "1. We assigned value 5 to variable x which is our Global Variable.\n",
    "2. We have definded function called Func using inbuit keyword def that has variable x with value 10 and two print statements one by one.\n",
    "3. As we are calling our Func() so Func() will be called and executed the output of execution is first two lines in our output.\n",
    "4. Then both the print statements will be executed that are outside of func()."
   ]
  },
  {
   "cell_type": "code",
   "execution_count": 36,
   "id": "347748da-f5f2-49ad-8f62-ec240df58836",
   "metadata": {
    "tags": []
   },
   "outputs": [
    {
     "name": "stdout",
     "output_type": "stream",
     "text": [
      "None\n"
     ]
    }
   ],
   "source": [
    "print(s1)"
   ]
  },
  {
   "cell_type": "markdown",
   "id": "494f1b5c-9e5e-4d5a-98a7-d892a2461505",
   "metadata": {},
   "source": [
    "#### Key Observations:\n",
    "**1. Global x :**\n",
    "* The variable x = 5 is defined at the **global scope**, so it is accessible anywhere in the code outside the function Func().\n",
    "\n",
    "**2. Local x :**\n",
    "\n",
    "* The variable x = 10 is defined inside the Func() function, so it is a local variable and exists only during the function’s execution.\n",
    "* **The local variable x inside the Func() function is not accessible outside the function.** This is because local variables have a **function scope** — they only exist and are accessible during the execution of the function in which they are defined. Once the function finishes execution, the local variable x is destroyed and cannot be accessed from outside.\n",
    "\n",
    "**3. Function Return:**\n",
    "\n",
    "* The function Func() does not return the local x, so **s1** is assigned the return value of **None** (default return value for a function with no return statement).\n"
   ]
  },
  {
   "cell_type": "markdown",
   "id": "dfd4a1a7-b139-4915-a257-e89d05c25107",
   "metadata": {},
   "source": [
    "#### How to access Local x ?\n",
    "##### Option 1: Return the Local Variable\n",
    "* Modify the function to return the local x:"
   ]
  },
  {
   "cell_type": "code",
   "execution_count": 39,
   "id": "129793d4-e569-4f9a-b443-a79ac4b47f91",
   "metadata": {
    "tags": []
   },
   "outputs": [
    {
     "name": "stdout",
     "output_type": "stream",
     "text": [
      "Inside Func2 value of x is : 10\n",
      "140728534602824\n",
      "Outside Func2 value of x is : 5\n"
     ]
    }
   ],
   "source": [
    "x = 5  # Global variable\n",
    "\n",
    "def Func2():                  # defining function \n",
    "    x = 10  # Local variable\n",
    "    print(\"Inside Func2 value of x is :\", x)\n",
    "    print(id(x))             # it will return MEMORY ID OF LOCAL x as an output\n",
    "    return x                 # Return the Local variable\n",
    "\n",
    "s2 = Func2()                  # s2 now stores the value of local x\n",
    "print(\"Outside Func2 value of x is :\", x)"
   ]
  },
  {
   "cell_type": "code",
   "execution_count": 40,
   "id": "f8a3b028-535d-4b83-b1ce-03e207126822",
   "metadata": {
    "tags": []
   },
   "outputs": [
    {
     "name": "stdout",
     "output_type": "stream",
     "text": [
      "Value of Local x stored in s2 is : 10\n"
     ]
    }
   ],
   "source": [
    "print(\"Value of Local x stored in s2 is :\",s2)"
   ]
  },
  {
   "cell_type": "markdown",
   "id": "f82ba84a-8f9f-496c-be2a-9fa6f0b0eca3",
   "metadata": {},
   "source": [
    "##### Option 2: Store the Local Variable in a Class Attribute\n",
    "* We can use a class to encapsulate the local variable as an attribute:"
   ]
  },
  {
   "cell_type": "code",
   "execution_count": 56,
   "id": "e27961a5-e956-44ad-89b4-f2aae25c98d6",
   "metadata": {
    "tags": []
   },
   "outputs": [
    {
     "name": "stdout",
     "output_type": "stream",
     "text": [
      "Inside Func3 value of x is : 10\n",
      "ID of self.x is: 140728534602824\n",
      "Access Local x via s3.x: 10\n",
      "ID of Local x via s3.x: 140728534602824\n",
      "Outside of Myclass value of global x is: 5\n"
     ]
    }
   ],
   "source": [
    "\n",
    "x = 5  # Global variable\n",
    "\n",
    "class MyClass:\n",
    "    def Func3(self):\n",
    "        self.x = 10  # Store local x in an instance attribute\n",
    "        print(\"Inside Func3 value of x is :\", self.x)\n",
    "        print(\"ID of self.x is:\",id(self.x))\n",
    "\n",
    "s3 = MyClass()\n",
    "s3.Func3()\n",
    "\n",
    "print(\"Access Local x via s3.x:\", s3.x)\n",
    "print(\"ID of Local x via s3.x:\", id(s3.x))\n",
    "print(\"Outside of Myclass value of global x is:\",x)"
   ]
  },
  {
   "cell_type": "code",
   "execution_count": 57,
   "id": "c79f6ca0-b3f0-4212-aacd-8cc41bf33ad7",
   "metadata": {
    "tags": []
   },
   "outputs": [
    {
     "name": "stdout",
     "output_type": "stream",
     "text": [
      "Inside Func3 value of x is : 10\n",
      "ID of self.x is: 140728534602824\n",
      "ID of Local x via s4.x: 140728534602824\n"
     ]
    }
   ],
   "source": [
    "s4 = MyClass()\n",
    "s4.Func3()\n",
    "print(\"ID of Local x via s4.x:\", id(s4.x))"
   ]
  },
  {
   "cell_type": "markdown",
   "id": "b3a34ca6-692e-49cd-a867-7cadb31ab187",
   "metadata": {},
   "source": [
    "##### Note:\n",
    "* In Output **id(self.x)** ---> **140728534602824**  and **id(s3.x)** is also -----> **140728534602824**. It means they are same. **self.x = self.s3**\n",
    "* It means **self = s3** for our s3 object (instance) when we assign or create **s3 = MyClass()**\n",
    "  so now inside Func3 scenario is **s3.x = 10** so s3.x variable has value 10 so when we print(s3.x) output is 10\n",
    "* Also when we create instance **s4 = Myclass()** and call function using **s4.Func3()** in that case our **self.x = s4.x = 10** because we can see\n",
    "  the memory ID of both are same.\n",
    "* Another interesting thing is **s3.x** and **s4.x** both are **different instances of MyClass has same Memory ID** ---> **140728534602824**. It is because the value stored is same which is 10. for example, when we assign a=10 , b = 10 then both a and b references holds same object 10 so both will point the same memory location where 10 is stored. its called **multiple variables assigned to same object**.(explained above in variable assignment) "
   ]
  },
  {
   "cell_type": "markdown",
   "id": "e56c8132-33f9-4431-a582-86bdd78e7879",
   "metadata": {},
   "source": [
    "#### Lets see What happens when we change value of Local variable self.x for different instances by giving user input :"
   ]
  },
  {
   "cell_type": "code",
   "execution_count": 62,
   "id": "6cc5bb2e-d8f7-4395-a946-c7371d852510",
   "metadata": {
    "tags": []
   },
   "outputs": [
    {
     "name": "stdin",
     "output_type": "stream",
     "text": [
      "Provide value for Local x : 15\n",
      "Provide value for Local y : 20\n"
     ]
    },
    {
     "name": "stdout",
     "output_type": "stream",
     "text": [
      "Inside Func4 value of self.x is : 15\n",
      "Inside Func4 value of self.y is : 20\n",
      "ID of self.x is: 2259265753456\n",
      "ID of self.y is: 2259265754544\n",
      "Access Local self.x via s5.x: 15\n",
      "Access Local self.y via s5.y: 20\n",
      "ID of s5.x: 2259265753456\n",
      "ID of s5.y: 2259265754544\n"
     ]
    }
   ],
   "source": [
    "class MyClass2:\n",
    "    def Func4(self):\n",
    "        self.x = input(\"Provide value for Local x :\")  # taking value of local x from user for every new instance of class\n",
    "        self.y = input(\"Provide value for Local y :\")\n",
    "        print(\"Inside Func4 value of self.x is :\", self.x)\n",
    "        print(\"Inside Func4 value of self.y is :\", self.y)\n",
    "        print(\"ID of self.x is:\",id(self.x))\n",
    "        print(\"ID of self.y is:\",id(self.y))\n",
    "        \n",
    "s5 = MyClass2()\n",
    "s5.Func4()\n",
    "\n",
    "print(\"Access Local self.x via s5.x:\", s5.x)\n",
    "print(\"Access Local self.y via s5.y:\", s5.y)\n",
    "print(\"ID of s5.x:\", id(s5.x))\n",
    "print(\"ID of s5.y:\", id(s5.y))"
   ]
  },
  {
   "cell_type": "code",
   "execution_count": 64,
   "id": "aeb2f468-0bbf-4dad-bd60-393b85775ab2",
   "metadata": {
    "tags": []
   },
   "outputs": [
    {
     "name": "stdin",
     "output_type": "stream",
     "text": [
      "Provide value for Local x : 30\n",
      "Provide value for Local y : 50\n"
     ]
    },
    {
     "name": "stdout",
     "output_type": "stream",
     "text": [
      "Inside Func4 value of self.x is : 30\n",
      "Inside Func4 value of self.y is : 50\n",
      "ID of self.x is: 2259265861104\n",
      "ID of self.y is: 2259265859632\n",
      "Access Local self.x via s6.x: 30\n",
      "Access Local self.y via s6.y: 50\n",
      "ID of s6.x: 2259265861104\n",
      "ID of s6.y: 2259265859632\n"
     ]
    }
   ],
   "source": [
    "s6 = MyClass2()\n",
    "s6.Func4()\n",
    "print(\"Access Local self.x via s6.x:\", s6.x)\n",
    "print(\"Access Local self.y via s6.y:\", s6.y)\n",
    "print(\"ID of s6.x:\", id(s6.x))\n",
    "print(\"ID of s6.y:\", id(s6.y))"
   ]
  },
  {
   "cell_type": "markdown",
   "id": "861d5d63-9006-455e-a60e-bea83f656f4d",
   "metadata": {},
   "source": [
    "#### Note :\n",
    "* For our s5 instance **self** will become **s5** so during **s5 = MyClass(), s5.func4()** we are **replacing self with s5** thats \n",
    "  why **id of self.x = id of s5.x** and **id of self.y = id of s5.y**\n",
    "* Same way, for our s6 instance **self** will become **s6** so during **s6 = MyClass(), s6.func4()** we are **replacing self with s6** thats \n",
    "  why **id of self.x = id of s6.x** and **id of self.y = id of s6.y**\n",
    "##### Here's importance of self :\n",
    "* Using self we can create as many attributes as we want like self.x,self.y,self.g and so on. and with single instance for example s5 we will be able   to access all of them"
   ]
  },
  {
   "cell_type": "markdown",
   "id": "93e7983c-29ac-4b09-91c6-39bffd5689c1",
   "metadata": {},
   "source": [
    "#### Understanding \"self\" inbuilt keyword in Python with Real World Scenario :\n",
    "* **Problem Statement :** Assume you're a teacher having 3 students in your class. \n",
    "* You are teaching them Math,Science and Physics and taking their monthly test for each subject of 100 Marks(each test).\n",
    "* so after monthly exams, you have a sheet with 5 Columns. \n",
    "* In 1st column there are their names (David,Keval,Sid).\n",
    "* In 2nd column \"Obtained marks in Math out of 100\"\n",
    "* In 3nd column \"Obtained marks in Science out of 100\"\n",
    "* In 4th column \"Obtained marks in Physics out of 100\"\n",
    "* In 5th column is of \"Percentage\" that what you want to calculate using python.\n",
    "* **Goal** is to calculate Percentage(%) for each student so whoever got highest percentage will be rewarded.\n",
    "* So we will create a python program that will take an input Name,Math Score,Science Score,Physics Score and\n",
    "  will give us percentage as an output for that student. so we will do the same for 3 times as we have five students."
   ]
  },
  {
   "cell_type": "markdown",
   "id": "db661e21-4802-412c-a1fb-55d487da972f",
   "metadata": {},
   "source": [
    "#### 1st Version : Basic Program using Class and method (percentage)\n",
    "##### Scope of improvement :\n",
    "* 1.In this below version there is no error handling. it means while entering student data if user makes mistakes and enters string or -ve number etc\n",
    "  then this kinds of erros aren't handled by this program.\n",
    "* 2.Also note that for each student we created instance like student1,student2,student3 so we are executing whole program 3 time one by one using each instance to calculate percentage. insted of that we can design it in a way that it takes all 3 student input once and execute program once and give an output for all 3 at once.\n",
    "* These above 2 things we will do in our **2nd Version** and **3rd Version**of Program."
   ]
  },
  {
   "cell_type": "code",
   "execution_count": null,
   "id": "6d2431c3-692f-490f-aa06-e00addcedbfd",
   "metadata": {},
   "outputs": [],
   "source": [
    "class Basic_Student:\n",
    "    def percentage(self):\n",
    "        # Displaying the type of self\n",
    "        print(f\"The data type of 'self' is: {type(self)}\")\n",
    "\n",
    "        # Taking user inputs\n",
    "        self.name = input(\"Enter the student's name: \")\n",
    "        self.maths = float(input(\"Enter marks for Maths (out of 100): \"))\n",
    "        self.science = float(input(\"Enter marks for Science (out of 100): \"))\n",
    "        self.english = float(input(\"Enter marks for English (out of 100): \"))\n",
    "\n",
    "        # Calculating percentage\n",
    "        total_marks = self.maths + self.science + self.english\n",
    "        percentage = (total_marks / 300) * 100\n",
    "\n",
    "        # Displaying the result\n",
    "        print(f\"\\n{self.name}'s Percentage: {percentage:.2f}%\")\n",
    "\n",
    "# Creating an instance of the Student class\n",
    "student1 = Basic_Student()\n",
    "student2 = Basic_Student()\n",
    "student3 = Basic_Student()"
   ]
  },
  {
   "cell_type": "code",
   "execution_count": 89,
   "id": "f2a74507-ad5a-4bee-864b-911c947951a8",
   "metadata": {
    "tags": []
   },
   "outputs": [
    {
     "name": "stdin",
     "output_type": "stream",
     "text": [
      "Enter the student's name:  David\n",
      "Enter score for Maths (out of 100):  78\n",
      "Enter score for Science (out of 100):  87\n",
      "Enter score for Physics (out of 100):  67\n"
     ]
    },
    {
     "name": "stdout",
     "output_type": "stream",
     "text": [
      "\n",
      "David's Percentage: 77.33%\n",
      "2259253653488\n",
      "2259261765008\n"
     ]
    }
   ],
   "source": [
    "# Calling the percentage method\n",
    "student1.percentage()\n",
    "print(id(student1.name))   # when we run this method for student1 instance then our self becomes student1. self=student1\n",
    "print(id(student1.maths))  # it means inside our __init__function variables will be student1.name,student1.maths,student1.science,student1.physics"
   ]
  },
  {
   "cell_type": "code",
   "execution_count": 92,
   "id": "dfe7d899-525c-4f9f-9b01-d2a18751b0e0",
   "metadata": {
    "tags": []
   },
   "outputs": [
    {
     "name": "stdin",
     "output_type": "stream",
     "text": [
      "Enter the student's name:  Keval\n",
      "Enter score for Maths (out of 100):  56\n",
      "Enter score for Science (out of 100):  89\n",
      "Enter score for Physics (out of 100):  96\n"
     ]
    },
    {
     "name": "stdout",
     "output_type": "stream",
     "text": [
      "\n",
      "Keval's Percentage: 80.33%\n",
      "2259265765296\n",
      "2259261760784\n"
     ]
    }
   ],
   "source": [
    "student2.percentage() # calling percentage method for 2nd student (student2 instance)\n",
    "print(id(student2.name))   # when we run this method for student2 instance then our self becomes student2. self=student2\n",
    "print(id(student2.maths))"
   ]
  },
  {
   "cell_type": "code",
   "execution_count": 91,
   "id": "669870ee-05dc-418f-a899-c25602b2e001",
   "metadata": {
    "tags": []
   },
   "outputs": [
    {
     "name": "stdin",
     "output_type": "stream",
     "text": [
      "Enter the student's name:  Sid\n",
      "Enter score for Maths (out of 100):  78\n",
      "Enter score for Science (out of 100):  67\n",
      "Enter score for Physics (out of 100):  88\n"
     ]
    },
    {
     "name": "stdout",
     "output_type": "stream",
     "text": [
      "\n",
      "Sid's Percentage: 77.67%\n",
      "2259264750960\n",
      "2259261763536\n"
     ]
    }
   ],
   "source": [
    "student3.percentage() # calling percentage method for 3rd student (student3 instance)\n",
    "print(id(student3.name))   # when we run this method for student3 instance then our self becomes student3. self=student3\n",
    "print(id(student3.maths))"
   ]
  },
  {
   "cell_type": "markdown",
   "id": "518583d4-9faf-419f-82f7-b46e46abc1f1",
   "metadata": {},
   "source": [
    "## 6. Understanding \"Self\" in Python :\n",
    "\n",
    "* In Python, **self** is a conventionally used parameter name in instance methods, including the **__ init __** method, to refer to the instance of the class that is calling the method. It acts as a reference to the object itself and allows access to its attributes and methods.\n",
    "\n",
    "##### Definition of self :\n",
    "* **self is a reference to the current instance of the class and is used to access variables and methods that belong to the class instance.**\n",
    "\n",
    "#### Key Points about self:\n",
    "**1. Instance Access:** It allows access to the attributes and methods of the current instance.\n",
    "\n",
    "**2. Mandatory First Parameter:** For instance methods, self must be the first parameter (though you can name it something else, it is highly discouraged to break this convention).\n",
    "\n",
    "**3. Scope:** self is only relevant inside instance methods, where it refers to the specific object on which the method is being invoked.\n",
    "\n",
    "##### Why is self Explicit?\n",
    "* Python uses self explicitly in method definitions to make it clear which attributes and methods belong to the instance. This explicitness avoids ambiguity and enhances code readability.\n",
    "* In summary, **self** serves as a bridge between the methods and attributes of an instance and the actual instance object calling the method. It's crucial for object-oriented programming in Python!"
   ]
  },
  {
   "cell_type": "markdown",
   "id": "47d0bf2c-de70-438e-9312-03eec2e84e75",
   "metadata": {},
   "source": [
    "#### Explaination of Syntax of Print Statement used in above program:\n",
    "* #### print(f\"\\n{self.name}'s Percentage: {percentage:.2f}%\")\n",
    "* ##### Explanation:\n",
    "1. **f\" at the Start:** The f\" indicates that this is an f-string, allowing expressions inside curly braces {} to be evaluated and inserted into the string dynamically.\n",
    "2. **\\n:** The \\n adds a new line before the string output. This ensures the text starts on a new line.\n",
    "3. **{self.name}:** Inside {}, the value of the self.name attribute (likely the student's name) is inserted dynamically. For example, if self.name = \"Alice\", this part of the string will be replaced with \"Alice\".\n",
    "4. **'s Percentage:** A static part of the string, this will appear exactly as it is, providing context for the dynamic parts.\n",
    "5. **{percentage:.2f}:** This embeds the value of the variable percentage into the string, formatting it to 2 decimal places.\n",
    "    * The .2f part is a format specifier:\n",
    "    * f stands for \"fixed-point notation.\"\n",
    "    * .2 means the number will be rounded to 2 decimal places.\n",
    "    * **For example:**\n",
    "    * If percentage = 85.666666, it will appear as 85.67.\n",
    "    * If percentage = 92.0, it will appear as 92.00.\n",
    "6. **%:**  The % symbol at the end is a static part of the string, indicating the percentage unit.\n"
   ]
  },
  {
   "cell_type": "markdown",
   "id": "a91d960f-4c67-4116-a06e-e89ff256148c",
   "metadata": {},
   "source": [
    "#### 2nd Version : Improved Program by implementing Error Handling\n",
    "* In our 1st version there was no error handling. it means while entering student data if user makes mistakes and enters string or -ve number etc\n",
    "  then this kinds of erros aren't handled by this 1st version of program.\n",
    "* We have achieved it here in our 2nd Version"
   ]
  },
  {
   "cell_type": "code",
   "execution_count": 93,
   "id": "47375f4d-4b83-4f16-9902-be226367a2e3",
   "metadata": {
    "tags": []
   },
   "outputs": [],
   "source": [
    "class Student:\n",
    "    def percentage(self):\n",
    "        # Taking student name input\n",
    "        self.name = input(\"Enter the student's name: \")\n",
    "\n",
    "        # Function to validate input\n",
    "        def get_valid_marks(subject):\n",
    "            while True:\n",
    "                try:\n",
    "                    marks = float(input(f\"Enter score for {subject} (out of 100): \"))\n",
    "                    if 0 <= marks <= 100:\n",
    "                        return marks  # Return valid marks\n",
    "                    else:\n",
    "                        print(\"Please enter marks between 0 and 100.\")\n",
    "                except ValueError:\n",
    "                    print(\"Invalid input. Please enter a numeric value.\")\n",
    "\n",
    "        # Taking and validating marks for each subject\n",
    "        self.maths = get_valid_marks(\"Maths\")\n",
    "        self.science = get_valid_marks(\"Science\")\n",
    "        self.physics = get_valid_marks(\"Physics\")\n",
    "        \n",
    "        # Calculating percentage\n",
    "        total_marks = self.maths + self.science + self.physics\n",
    "        percentage = (total_marks / 300) * 100\n",
    "\n",
    "        # Displaying the result\n",
    "        print(f\"\\n{self.name}'s Percentage: {percentage:.2f}%\")\n",
    "# Creating an instance of the Student class\n",
    "student1 = Student()\n",
    "student2 = Student()\n",
    "student3 = Student()"
   ]
  },
  {
   "cell_type": "code",
   "execution_count": 97,
   "id": "e19d9ae3-bce7-4010-925f-c611fc0f6ac1",
   "metadata": {
    "tags": []
   },
   "outputs": [
    {
     "name": "stdin",
     "output_type": "stream",
     "text": [
      "Enter the student's name:  David\n",
      "Enter score for Maths (out of 100):  sjfnsghhhhhhhhhhhhhhhhhhhh\n"
     ]
    },
    {
     "name": "stdout",
     "output_type": "stream",
     "text": [
      "Invalid input. Please enter a numeric value.\n"
     ]
    },
    {
     "name": "stdin",
     "output_type": "stream",
     "text": [
      "Enter score for Maths (out of 100):  89\n",
      "Enter score for Science (out of 100):  87\n",
      "Enter score for Physics (out of 100):  67\n"
     ]
    },
    {
     "name": "stdout",
     "output_type": "stream",
     "text": [
      "\n",
      "David's Percentage: 81.00%\n"
     ]
    }
   ],
   "source": [
    "# Calling the percentage method\n",
    "student1.percentage()"
   ]
  },
  {
   "cell_type": "code",
   "execution_count": 96,
   "id": "ae6c7acd-e21e-4041-b803-fdf69f7ea6a7",
   "metadata": {
    "tags": []
   },
   "outputs": [
    {
     "name": "stdin",
     "output_type": "stream",
     "text": [
      "Enter the student's name:  Keval\n",
      "Enter score for Maths (out of 100):  253677777777777777777777777\n"
     ]
    },
    {
     "name": "stdout",
     "output_type": "stream",
     "text": [
      "Please enter marks between 0 and 100.\n"
     ]
    },
    {
     "name": "stdin",
     "output_type": "stream",
     "text": [
      "Enter score for Maths (out of 100):  87\n",
      "Enter score for Science (out of 100):  98\n",
      "Enter score for Physics (out of 100):  95\n"
     ]
    },
    {
     "name": "stdout",
     "output_type": "stream",
     "text": [
      "\n",
      "Keval's Percentage: 93.33%\n"
     ]
    }
   ],
   "source": [
    "student2.percentage()"
   ]
  },
  {
   "cell_type": "code",
   "execution_count": 99,
   "id": "4278dc4d-7b25-4eaf-ae03-021552aac2fa",
   "metadata": {
    "tags": []
   },
   "outputs": [
    {
     "name": "stdin",
     "output_type": "stream",
     "text": [
      "Enter the student's name:  Sid\n",
      "Enter score for Maths (out of 100):  -567889543445556\n"
     ]
    },
    {
     "name": "stdout",
     "output_type": "stream",
     "text": [
      "Please enter marks between 0 and 100.\n"
     ]
    },
    {
     "name": "stdin",
     "output_type": "stream",
     "text": [
      "Enter score for Maths (out of 100):  92\n",
      "Enter score for Science (out of 100):  84\n",
      "Enter score for Physics (out of 100):  65\n"
     ]
    },
    {
     "name": "stdout",
     "output_type": "stream",
     "text": [
      "\n",
      "Sid's Percentage: 80.33%\n"
     ]
    }
   ],
   "source": [
    "student3.percentage()"
   ]
  },
  {
   "cell_type": "markdown",
   "id": "576aab5a-f2a7-4a2c-895b-9cd572e60ea9",
   "metadata": {},
   "source": [
    "#### How Above 2nd version of Program Works:\n",
    "##### 1. Class Definition: \n",
    "* The **Student class** encapsulates the logic related to a student1,student2.etc.\n",
    "\n",
    "##### 2. percentage Method:\n",
    "* There is single method that takes user input for the student's name and marks in Maths, Science, and English,\n",
    "  calculates percentage and print results.\n",
    "    ##### 2.1 Validation Loop:\n",
    "    * A helper function get_valid_marks is added to validate user input for each subject. It keeps prompting the user until a valid value (between 0 and 100) is entered.\n",
    "    * If the input is invalid (not numeric or out of range), an appropriate message is displayed.\n",
    "    ##### 2.2 Error Handling with try and except:\n",
    "    * Added error handling for non-numeric inputs to avoid program crashes when the user enters invalid data like text.\n",
    "    ##### 2.3 Reusable Validation Logic:\n",
    "    * Instead of duplicating validation code for each subject, a single function handles all three subjects (Maths, Science, and Physics).\n",
    "\n",
    "\n",
    "##### 3. Instance Creation: \n",
    "* An object of the Student class is created, and the percentage method is called ---> **student1.percentage()**"
   ]
  },
  {
   "cell_type": "markdown",
   "id": "08afa4d0-4e8a-410a-a5ea-4b2d487c4185",
   "metadata": {},
   "source": [
    "### 3rdVersion : Improving 2nd Version again and lets see how to make it more Optimized :\n",
    "* Our **1st and 2nd version** program calculates the percentage for 3 students individually by creating five separate instances of the Student class. \n",
    "* While this works, it can be optimized for better space and time efficiency.\n",
    "* In our 3rd version instead of 3 students we'll give facility to user to enter input total number of students for whom they want to calculate percentage.\n",
    "* Also we will create just single instance s1, execute whole program just once and calculate percentage for as many students as user wants."
   ]
  },
  {
   "cell_type": "code",
   "execution_count": 100,
   "id": "abbd086b-cf19-44f3-9390-a4a50db9cf67",
   "metadata": {
    "tags": []
   },
   "outputs": [
    {
     "name": "stdin",
     "output_type": "stream",
     "text": [
      "Enter the number of students:  2\n",
      "\n",
      "Enter the student's name:  Keval\n",
      "Enter score for Maths (out of 100):  95\n",
      "Enter score for Science (out of 100):  97\n",
      "Enter score for Physics (out of 100):  95\n",
      "\n",
      "Enter the student's name:  Sid\n",
      "Enter score for Maths (out of 100):  adhajfshkfjhskjgs\n"
     ]
    },
    {
     "name": "stdout",
     "output_type": "stream",
     "text": [
      "Invalid input. Please enter a numeric value.\n"
     ]
    },
    {
     "name": "stdin",
     "output_type": "stream",
     "text": [
      "Enter score for Maths (out of 100):  -654443333333\n"
     ]
    },
    {
     "name": "stdout",
     "output_type": "stream",
     "text": [
      "Please enter marks between 0 and 100.\n"
     ]
    },
    {
     "name": "stdin",
     "output_type": "stream",
     "text": [
      "Enter score for Maths (out of 100):  88\n",
      "Enter score for Science (out of 100):  76\n",
      "Enter score for Physics (out of 100):  87\n"
     ]
    },
    {
     "name": "stdout",
     "output_type": "stream",
     "text": [
      "\n",
      "Student's percentages:\n",
      "Keval's percentage : 95.67%\n",
      "Sid's percentage : 83.67%\n"
     ]
    }
   ],
   "source": [
    "class Student_Optimized:\n",
    "    def __init__(self,name,math,science,physics):\n",
    "        self.name = name\n",
    "        self.math = math\n",
    "        self.science = science\n",
    "        self.physics = physics\n",
    "        \n",
    "    def calculate_percentage(self):\n",
    "        total_marks = self.math + self.science + self.physics\n",
    "        percentage = (total_marks/300)*100\n",
    "        return percentage\n",
    "    \n",
    "# Function to handle multiple students data   \n",
    "def main():\n",
    "    num_students = int(input(\"Enter the number of students: \"))\n",
    "    student_list = []\n",
    "    \n",
    "    #Taking user input\n",
    "    for _ in range(num_students):\n",
    "        name = input(\"\\nEnter the student's name: \")\n",
    "        def get_valid_marks(subject):\n",
    "            while True:\n",
    "                try:\n",
    "                    marks = float(input(f\"Enter score for {subject} (out of 100): \"))\n",
    "                    if 0 <= marks <= 100:\n",
    "                        return marks  # Return valid marks\n",
    "                    else:\n",
    "                        print(\"Please enter marks between 0 and 100.\")\n",
    "                except ValueError:\n",
    "                    print(\"Invalid input. Please enter a numeric value.\")\n",
    "                    \n",
    "        math = get_valid_marks(\"Maths\")\n",
    "        science = get_valid_marks(\"Science\")\n",
    "        physics = get_valid_marks(\"Physics\")\n",
    "        \n",
    "        # creating a s1 object\n",
    "        s1 = Student_Optimized(name,math,science,physics)\n",
    "        student_list.append(s1) # storing the s1 object input data to student_list\n",
    "    \n",
    "    # Displaying the result\n",
    "    print(\"\\nStudent's percentages:\")\n",
    "    for s1 in student_list:\n",
    "        percentage = s1.calculate_percentage()\n",
    "        print(f\"{s1.name}'s percentage : {percentage:.2f}%\")\n",
    "        \n",
    "# callin the main() function\n",
    "main()"
   ]
  },
  {
   "cell_type": "markdown",
   "id": "69cf8cd9-896d-41c9-b568-0d98a61ba47f",
   "metadata": {},
   "source": [
    "#### Improvements Made :\n",
    "##### 1. Single Student_Optimized Class Initialization (__ init __):\n",
    "\n",
    "* Instead of using multiple calls to input inside the class, inputs are handled externally, and attributes are passed directly when creating the **s1** object. This improves modularity and separation of concerns.\n",
    "\n",
    "##### 2. Handling Multiple Students Dynamically:\n",
    "\n",
    "* Instead of creating multiple hardcoded instances (s1, s2, s3, etc.) in our previous program, here we store all s1 objects in a list **(student_list)** and iterate through it.\n",
    "\n",
    "##### 3. Time Complexity:\n",
    "\n",
    "* The input and calculations are streamlined using a loop. For n students, the time complexity is O(n) because we only loop through the input and calculations once.\n",
    "\n",
    "##### 4. Space Complexity:\n",
    "\n",
    "* By using a list to store student objects, we avoid multiple hardcoded variable names, making the program scalable for any number of students. Space complexity is O(n), where n is the number of students.\n",
    "\n",
    "##### 5. Reusability:\n",
    "\n",
    "* The Student_Optimized class has a dedicated calculate_percentage() method, which can be reused elsewhere, improving maintainability and scalability.\n"
   ]
  },
  {
   "cell_type": "markdown",
   "id": "2f4ae2e2-270c-45f6-b6b4-1c728e242f32",
   "metadata": {},
   "source": [
    "## 8. Understanding __ init __ method in Python \n",
    "#### 8.1 What is the **__ init __** Method in Python?\n",
    "* The **__ init __** method in Python is a special method, also known as a constructor, used to initialize an object’s attributes when a class is instantiated. It is automatically called when you create a new instance of a class.\n",
    "\n",
    "#### 8.2 Purpose of **__ init __** :\n",
    "* ##### The **__ init __** method is primarily used to:\n",
    "    1. Initialize Instance Attributes: Set up the initial state of an object by assigning values to its attributes.\n",
    "    2. Run Setup Code: Perform any necessary setup or initialization tasks for the instance.\n",
    "    \n",
    "#### 8.3 Key Points about the **__ init __** Method\n",
    "* #### Automatic Invocation:\n",
    "    * **__ init __** is automatically invoked when an object is created from a class.\n",
    "    * You don’t need to call it explicitly.\n",
    "    \n",
    "* #### Optional Parameters:\n",
    "    * You can define parameters for the **__ init __** method to accept data when creating an object.\n",
    "    * These parameters allow flexibility in initializing objects with different values.\n",
    "    \n",
    "* #### Instance-Specific Initialization:\n",
    "    * Each object can have its own unique state because the attributes are initialized specifically for that object.\n",
    "\n",
    "* #### Not Mandatory:\n",
    "    * A class does not require an **__ init __** method if no initialization is needed.\n",
    "* #### Default Return Value:\n",
    "    * **__ init __** does not return anything; it always implicitly returns None.\n",
    "\n",
    "* #### Self Reference:\n",
    "    * self refers to the specific instance being initialized, allowing you to set instance attributes.\n",
    "\n"
   ]
  },
  {
   "cell_type": "markdown",
   "id": "cf39647b-e53b-4b66-8d21-34ae2ba8df0d",
   "metadata": {},
   "source": [
    "### 9. Understanding Design Philosophy of Python : \"Everything in Python is an Object\"\n",
    "* ####  An integral part of Python's Object-Oriented Programming"
   ]
  },
  {
   "cell_type": "code",
   "execution_count": 73,
   "id": "713ddbbc-e919-4cd2-9fd5-1a86063396e5",
   "metadata": {
    "tags": []
   },
   "outputs": [
    {
     "name": "stdout",
     "output_type": "stream",
     "text": [
      "The data type of 'self' is: <class '__main__.MyStudent'>\n"
     ]
    },
    {
     "name": "stdin",
     "output_type": "stream",
     "text": [
      "Enter the student's name:  Siddhant Patel\n",
      "Enter marks for Maths (out of 100):  92\n",
      "Enter marks for Science (out of 100):  70\n",
      "Enter marks for English (out of 100):  89\n"
     ]
    },
    {
     "name": "stdout",
     "output_type": "stream",
     "text": [
      "The data type of 'self.name' is: <class 'str'>\n",
      "The data type of 'self.maths' is: <class 'float'>\n",
      "The data type of 'percentage' is: <class 'float'>\n",
      "The data type of 'total_marks' is: <class 'float'>\n",
      "\n",
      "Siddhant Patel's Percentage: 83.67%\n",
      "The data type of the 'def percentage' when accessed from the class is : <class 'function'>\n",
      "The data type of 'studentinput.percentage()' method when accessed from instance is : <class 'method'>\n",
      "The data type of an instace(studentinput) of a class MyStudent is : <class '__main__.MyStudent'>\n",
      "The data type of 'class Mystudent' is : <class 'type'>\n"
     ]
    }
   ],
   "source": [
    "class MyStudent:\n",
    "    def percentage(self):\n",
    "        # Displaying the type of self\n",
    "        print(f\"The data type of 'self' is: {type(self)}\")\n",
    "\n",
    "        # Taking user inputs\n",
    "        self.name = input(\"Enter the student's name: \")\n",
    "        self.maths = float(input(\"Enter marks for Maths (out of 100): \"))\n",
    "        self.science = float(input(\"Enter marks for Science (out of 100): \"))\n",
    "        self.english = float(input(\"Enter marks for English (out of 100): \"))\n",
    "        \n",
    "        # Displaying the data type of self.name\n",
    "        print(f\"The data type of 'self.name' is: {type(self.name)}\")\n",
    "        print(f\"The data type of 'self.maths' is: {type(self.maths)}\")\n",
    "        \n",
    "        # Calculating percentage\n",
    "        total_marks = self.maths + self.science + self.english\n",
    "        percentage = (total_marks / 300) * 100\n",
    "        \n",
    "        # Printing the data type of percentage\n",
    "        print(f\"The data type of 'percentage' is: {type(percentage)}\")\n",
    "        print(f\"The data type of 'total_marks' is: {type(total_marks)}\")\n",
    "\n",
    "        # Displaying the result\n",
    "        print(f\"\\n{self.name}'s Percentage: {percentage:.2f}%\")\n",
    "\n",
    "# Creating an instance of the Student class\n",
    "studentinput = MyStudent()\n",
    "\n",
    "# Calling the percentage method\n",
    "studentinput.percentage()\n",
    "\n",
    "# Check the data type of class,an instance of class, the percentage function and 'percentage' when accessed from an instance\n",
    "\n",
    "print(f\"The data type of the 'def percentage' when accessed from the class is : {type(MyStudent.percentage)}\")  # Accessing as a class attribute\n",
    "print(f\"The data type of 'studentinput.percentage()' method when accessed from instance is : {type(studentinput.percentage)}\")  # Accessing as an instance attribute\n",
    "print(f\"The data type of an instace(studentinput) of a class MyStudent is : {type(studentinput)}\")\n",
    "print(f\"The data type of 'class Mystudent' is : {type(MyStudent)}\")"
   ]
  },
  {
   "cell_type": "markdown",
   "id": "432cfa55-ba3d-4525-89dc-35e6f678d6ba",
   "metadata": {},
   "source": [
    "### Everything is an Object In Python:\n",
    "* ##### All data and code are objects.\n",
    "* ##### Objects are instances of classes, and their type can be determined using the type() function.\n",
    "* ##### So Every object in Python belongs to a class that defines its behavior and properties.check the type of an object using type()\n",
    "#### 1.The type of \"self\" :\n",
    "* The data type of **self** is the instance of the class itself.\n",
    "* In the context of the MyStudent class, when we use self, it refers to the current instance of the Student class. \n",
    "* **Therefore, the data type of self is <class '__main__.MyStudent'>** if the code is being run in the main module.\n",
    "* **self** is a reference to the instance of the class, and **its data type will always be the class type in which it is used.**\n",
    "* In this case, self is of type <class '__main__.MyStudent'>, indicating it is an instance of the MyStudent class defined in the __main__ module.\n",
    "\n",
    "#### 2.Understanding the Type of the Function percentage :\n",
    "* In Python, functions themselves have a data type, just like variables do. The data type of a function is <class 'function'>.\n",
    "* The function def percentage in our MyStudent class is an instance method. Methods in Python are objects of type function. When we call the method using the class instance (e.g., studentinput.percentage()), it becomes a bound method, meaning it is bound to the specific instance (studentinput).\n",
    "    * Print(type( **MyStudent.percentage** )) : This refers to the unbound method directly from the class and has the type <class 'function'>.\n",
    "    * print(type( **studentinput.percentage** )): This refers to the bound method attached to the instance (studentinput) and has the type <class 'method'>.\n",
    "    ##### Key Points:\n",
    "    ##### 1.Unbound Method (<class 'function'>):\n",
    "    * When you access the function directly from the class, it is treated as a plain function.\n",
    "    ##### 2. Bound Method (<class 'method'>):\n",
    "    * When the function is accessed via an instance, Python automatically binds it to that instance, turning it into a bound method.\n",
    "\n",
    "    ##### Summary:\n",
    "* The data type of the percentage function is **<class 'function'> when accessed from the class.**\n",
    "* The data type of percentage becomes **<class 'method'> when accessed from an instance.**\n",
    "* This distinction is essential for Python's object-oriented behavior.\n",
    "\n",
    "#### 3. Instances are Objects of class they are created from:\n",
    "* An instance of a class is an object of the class it was created from, and its data type is <class 'YourClassName'>. \n",
    "* **Every present instance of a class is also an object**, in our case instance **s1 is an object and its data type is <class '__main__.MyStudent'>.** However, if we access a method (function within the class) through the instance, it is a bound method, and its data type is <class 'method'>.\n",
    "* for example : **studentinput.percentage()** its instance accessed using percentage method so **its type is <class 'method'>**\n",
    "\n",
    "#### 4. Classes Are Objects\n",
    "* **Classes themselves are objects of type <class 'type'>.** \n",
    "* This means:\n",
    "    * You can dynamically create classes using type().\n",
    "    * A class is an instance of the type metaclass, which defines how classes behave.\n",
    "\n",
    "### Summary :\n",
    "##### Everything in Python is an object.\n",
    "\n",
    "##### 1.Even primitives like integers, strings, and floats are objects.\n",
    "* Every object has a data type.\n",
    "* The data type of an object is determined by its class.\n",
    "##### 2.Functions are objects.\n",
    "* Functions are instances of <class 'function'>.\n",
    "##### 3.Classes are also objects.\n",
    "* Classes are instances of <class 'type'>.\n",
    "##### 4.Every instance of a class is an object.\n",
    "* Its data type is <class 'CreatedClassName'>. (In our case s1 instance belongs to class we created which is MyClass)\n",
    "##### 5.Methods are objects too.\n",
    "* When a method is accessed through an instance, it becomes a bound method, and its data type is <class 'method'>."
   ]
  },
  {
   "cell_type": "code",
   "execution_count": null,
   "id": "0ddb252e-4cfd-4128-bfa7-f06766afcacc",
   "metadata": {},
   "outputs": [],
   "source": []
  }
 ],
 "metadata": {
  "kernelspec": {
   "display_name": "Python 3 (ipykernel)",
   "language": "python",
   "name": "python3"
  },
  "language_info": {
   "codemirror_mode": {
    "name": "ipython",
    "version": 3
   },
   "file_extension": ".py",
   "mimetype": "text/x-python",
   "name": "python",
   "nbconvert_exporter": "python",
   "pygments_lexer": "ipython3",
   "version": "3.11.5"
  }
 },
 "nbformat": 4,
 "nbformat_minor": 5
}
